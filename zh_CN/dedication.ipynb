{
 "cells": [
  {
   "cell_type": "markdown",
   "id": "4fbf4dcd",
   "metadata": {},
   "source": [
    "(dedication)= \n",
    "# Dedication \n",
    "```{epigraph} To Romina and Abril, and their caring love. To everyone who helped me get here.\n",
    " \n",
    "-- Osvaldo Martin``` \n",
    "```{epigraph} To the educators, both formal and informal, who unconditionally shared their knowledge and wisdom making me who I am today. In order of appearance in my life, Tim Pegg, Mr. Michael Collins, Mrs. Sara LaFramboise Saadeh, Professor Mehrdad Haghi, Professor Winny Dong, Professor Dixon Davis, Jason Errington, Chris Lopez, John Norman, Professor Ananth Krishnamurthy, and Kurt Campbell.\n",
    " Thank you \n",
    " -- Ravin Kumar``` \n",
    "```{epigraph} To Yuli.\n",
    " -- Junpeng Lao```"
   ]
  }
 ],
 "metadata": {
  "jupytext": {
   "formats": "ipynb,md:myst"
  },
  "kernelspec": {
   "display_name": "Python 3 (ipykernel)",
   "language": "python",
   "name": "python3"
  }
 },
 "nbformat": 4,
 "nbformat_minor": 5
}
