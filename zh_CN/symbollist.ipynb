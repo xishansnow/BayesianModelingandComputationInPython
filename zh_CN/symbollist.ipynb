{
 "cells": [
  {
   "cell_type": "markdown",
   "id": "f0f7edd0",
   "metadata": {},
   "source": [
    "(symbols)= \n",
    "# Symbols \n",
    " $\\log(x)$ Natural logarithm of x \n",
    "$\\mathbb{R}$ Real numbers \n",
    "$\\mathbb{R}^n$ n-dimensional vector space of real numbers \n",
    "$\\mathcal{A, S}$ Sets \n",
    "$x \\in A$ Set membership. $x$ is an element of the set $A$ \n",
    "$\\unicode{x1D7D9}_A$ Indicator function. Returns 1 if $x \\in A$ and 0 otherwise \n",
    "$a \\propto b$ a is proportional to b  \n",
    "$a \\underset{\\sim}{\\propto}  b$ a is approximately proportional to b  \n",
    "$a \\approx b$ a is approximately equal to b  %\\symbolentry{$\\forall x$ for all $x$} not used\\  $a, c, \\alpha, \\gamma$ Scalars are lowercase \n",
    "$\\mathbf{x, y}$ Vectors are bold lowercase, thus we write a column vector as $\\mathbf{x}=[x_1,\\dots,x_n]^T$ \n",
    "$\\mathbf{X, Y}$ Matrices are bold uppercase \n",
    "$X, Y$ Random variables are specified as upper case Roman letters \n",
    "$x, y$ Outcomes from random variables are generally specified as lower case roman letters \n",
    "$\\boldsymbol{X, Y}$ Random vectors are in uppercase slanted bold font, $\\boldsymbol{X} = [X_1,\\dots,X_n]^T$ \n",
    "$\\boldsymbol{\\theta}$ Greek lowercase characters are generally used for model parameters. Notice, that as we are Bayesians parameters are generally considered random variables \n",
    "$\\hat \\theta$ Point estimate of $\\boldsymbol{\\theta}$ \n",
    "$\\mathbb{E}_{X}[X]$ Expectation of $X$ with respect to $X$, most often than not this is abbreviated as $\\mathbb{E}[X]$ \n",
    "$\\mathbb{V}_{X}[X]$ Variance of $X$ with respect to $X$, most often than not this is abbreviated as $\\mathbb{V}[X]$ \n",
    "$X \\sim p$ Random variable $X$ is distributed as p \n",
    "$p(\\cdot)$ Probability density or probability mass function \n",
    "$p(y \\mid \\boldsymbol{x})$ Probability (density) of $y$ given $\\boldsymbol{x}$. This is the short form for $p(Y=y \\mid \\boldsymbol{X}=\\boldsymbol{x})$ \n",
    "$f(x)$ An arbitrary function of x \n",
    "$f(\\boldsymbol{X}; \\theta, \\gamma)$ $f$ is a function of $\\boldsymbol{X}$ with parameters $\\theta$ and $\\gamma$. We use this notation to highlight that $\\boldsymbol{X}$ is the data we pass to a function or model and $\\theta$ and $\\gamma$ are parameters \n",
    "$\\mathcal{N}(\\mu, \\sigma)$ A Gaussian (or normal) distribution with mean $\\mu$ and standard deviation $\\sigma$ \n",
    "$\\mathcal{HN}(\\sigma)$ A Half-Gaussian (or half-normal) distribution with standard deviation $\\sigma$ \n",
    "Beta$(\\alpha, \\beta)$ Beta distribution with shape parameters $\\alpha$, $\\beta$ \n",
    "Expo$(\\lambda)$ An Exponential distribution with rate parameter $\\lambda$ \n",
    "$\\mathcal{U}(a, b)$ A Uniform distribution with lower boundary $a$ and upper boundary $b$ \n",
    "T$(\\nu, \\mu, \\sigma)$ A Student's t-distribution with grade of normality $\\nu$ (also known as degrees of freedom), location parameter $\\mu$ (the mean when $\\nu > 1$), scale parameter $\\sigma$ (the standard deviation as $\\lim_{\\nu\\to\\infty}$).\n",
    " $\\mathcal{H}\\text{T}( \\nu \\sigma)$ A Half Student's t-distribution with and grade of normality $\\nu$ (also known as degrees of freedom) and scale parameter $\\sigma$ \n",
    "Cauchy$(\\alpha, \\beta)$ Cauchy distribution with location parameters $\\alpha$ and scale parameter $\\beta$ \n",
    "$\\mathcal{H}\\text{C}(\\beta)$ Half-Cauchy distribution with scale parameter $\\beta$ \n",
    "$\\text{Laplace}(\\mu, \\tau)$ Laplace distribution with mean $\\mu$ and scale $\\tau$ \n",
    "Bin$(n, p)$ Binomial distribution with trials $n$ and success $p$ \n",
    "Pois($\\mu)$ Poisson distribution with mean (and variance) $\\mu$ \n",
    "NB($\\mu, \\alpha)$ Negative Binomial distribution with Poisson parameter $\\mu$ and Gamma distribution parameter $\\alpha$ \n",
    "$\\mathcal{G}RW(\\mu, \\sigma)$ Gaussian random walk distribution with innovation drift $\\mu$ and innovation standard deviation $\\sigma$ \n",
    "$\\mathbb{KL}(p \\parallel q)$ Kullback-Leibler divergence from $p$ to $q$"
   ]
  }
 ],
 "metadata": {
  "jupytext": {
   "formats": "ipynb,md:myst"
  },
  "kernelspec": {
   "display_name": "Python 3 (ipykernel)",
   "language": "python",
   "name": "python3"
  }
 },
 "nbformat": 4,
 "nbformat_minor": 5
}
