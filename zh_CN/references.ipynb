{
 "cells": [
  {
   "cell_type": "markdown",
   "id": "f810fae4",
   "metadata": {},
   "source": [
    "(References)=\n",
    "\n",
    "# References\n",
    "\n",
    "```{bibliography}\n",
    ":style: unsrt\n",
    "```"
   ]
  }
 ],
 "metadata": {
  "jupytext": {
   "formats": "ipynb,md:myst"
  },
  "kernelspec": {
   "display_name": "Python 3 (ipykernel)",
   "language": "python",
   "name": "python3"
  }
 },
 "nbformat": 4,
 "nbformat_minor": 5
}
